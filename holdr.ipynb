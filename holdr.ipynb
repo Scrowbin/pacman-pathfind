{
 "cells": [
  {
   "cell_type": "code",
   "execution_count": 12,
   "metadata": {},
   "outputs": [],
   "source": [
    "import os\n",
    "import heapq\n",
    "import random\n",
    "import pygame\n",
    "from math import e"
   ]
  },
  {
   "cell_type": "code",
   "execution_count": null,
   "metadata": {},
   "outputs": [
    {
     "ename": "",
     "evalue": "",
     "output_type": "error",
     "traceback": [
      "\u001b[1;31mThe Kernel crashed while executing code in the current cell or a previous cell. \n",
      "\u001b[1;31mPlease review the code in the cell(s) to identify a possible cause of the failure. \n",
      "\u001b[1;31mClick <a href='https://aka.ms/vscodeJupyterKernelCrash'>here</a> for more info. \n",
      "\u001b[1;31mView Jupyter <a href='command:jupyter.viewOutput'>log</a> for further details."
     ]
    }
   ],
   "source": [
    "pygame.init()\n",
    "TITLE = 'Pac-Man'\n",
    "\n",
    "WORLD_SIZE = 20\n",
    "BLOCK_SIZE = 32\n",
    "WIDTH = WORLD_SIZE*BLOCK_SIZE\n",
    "HEIGHT = WORLD_SIZE*BLOCK_SIZE\n",
    "screen = pygame.display.set_mode((WIDTH,HEIGHT))\n",
    "pygame.display.set_caption(TITLE)\n",
    "font = pygame.font.SysFont('Arial', 18)\n"
   ]
  },
  {
   "cell_type": "code",
   "execution_count": null,
   "metadata": {},
   "outputs": [],
   "source": [
    "class Pacman:\n",
    "    assets = {\n",
    "                        '%': 'graphic_assets/wall.png',\n",
    "                        'P': 'graphic_assets/power.png',\n",
    "                        '.': 'graphic_assets/feast.png',       }\n",
    "    map = []\n",
    "    \n",
    "    def __init__(self, file=\"map.txt\"):\n",
    "        self.x = 0\n",
    "        self.y = 0\n",
    "        self.file = file\n",
    "    def map(self):\n",
    "        \n",
    "        with open(self.file) as f:\n",
    "            for line in f:\n",
    "                row = []\n",
    "                for block in line:\n",
    "                    row.append(block)\n",
    "                map.append(row)\n",
    "    def draw():\n",
    "        \n",
    "        for y, row in enumerate(map):\n",
    "            for x, block in enumerate(row):\n",
    "                image = assets.get(block, None)\n",
    "                if image:\n",
    "                    screen.blit(assets[block], (x*BLOCK_SIZE, y*BLOCK_SIZE))\n",
    "        screen.blit('graphic_assets/pac.png', (BLOCK_SIZE, BLOCK_SIZE))\n",
    "    def play():\n",
    "        playing = True\n",
    "        while playing:\n",
    "            for event in pygame.event.get():\n",
    "                if event.type == pygame.QUIT:\n",
    "                    playing = False\n",
    "            \n"
   ]
  },
  {
   "cell_type": "code",
   "execution_count": 10,
   "metadata": {},
   "outputs": [
    {
     "data": {
      "text/plain": [
       "'graphic_assets/wall.png'"
      ]
     },
     "execution_count": 10,
     "metadata": {},
     "output_type": "execute_result"
    }
   ],
   "source": [
    "pm = Pacman()\n",
    "\n",
    "pm.char_to_image['%']"
   ]
  },
  {
   "cell_type": "code",
   "execution_count": null,
   "metadata": {},
   "outputs": [
    {
     "ename": "NameError",
     "evalue": "name 'Actor' is not defined",
     "output_type": "error",
     "traceback": [
      "\u001b[1;31m---------------------------------------------------------------------------\u001b[0m",
      "\u001b[1;31mNameError\u001b[0m                                 Traceback (most recent call last)",
      "Cell \u001b[1;32mIn[5], line 14\u001b[0m\n\u001b[0;32m     10\u001b[0m             row\u001b[38;5;241m.\u001b[39mappend(block)\n\u001b[0;32m     11\u001b[0m         \u001b[38;5;28mmap\u001b[39m\u001b[38;5;241m.\u001b[39mappend(row)\n\u001b[1;32m---> 14\u001b[0m pacman \u001b[38;5;241m=\u001b[39m \u001b[43mActor\u001b[49m(\u001b[38;5;124m'\u001b[39m\u001b[38;5;124mgraphic_assets/left.png\u001b[39m\u001b[38;5;124m'\u001b[39m, anchor\u001b[38;5;241m=\u001b[39m(\u001b[38;5;124m'\u001b[39m\u001b[38;5;124mleft, top\u001b[39m\u001b[38;5;124m'\u001b[39m))\n\u001b[0;32m     15\u001b[0m pacman\u001b[38;5;241m.\u001b[39mx \u001b[38;5;241m=\u001b[39m pacman\u001b[38;5;241m.\u001b[39my \u001b[38;5;241m=\u001b[39m \u001b[38;5;241m1\u001b[39m\u001b[38;5;241m*\u001b[39mBLOCK_SIZE\n\u001b[0;32m     17\u001b[0m pacman\u001b[38;5;241m.\u001b[39mdraw()\n",
      "\u001b[1;31mNameError\u001b[0m: name 'Actor' is not defined"
     ]
    }
   ],
   "source": [
    "\n",
    "\n",
    "\n",
    "\n",
    "# load file\n",
    "\n",
    "\n",
    "\n",
    "\n",
    "\n",
    "pacman = Actor('graphic_assets/left.png', anchor=('left, top'))\n",
    "pacman.x = pacman.y = 1*BLOCK_SIZE\n",
    "\n",
    "pacman.draw()\n",
    "\n"
   ]
  }
 ],
 "metadata": {
  "kernelspec": {
   "display_name": "Python 3",
   "language": "python",
   "name": "python3"
  },
  "language_info": {
   "codemirror_mode": {
    "name": "ipython",
    "version": 3
   },
   "file_extension": ".py",
   "mimetype": "text/x-python",
   "name": "python",
   "nbconvert_exporter": "python",
   "pygments_lexer": "ipython3",
   "version": "3.12.2"
  }
 },
 "nbformat": 4,
 "nbformat_minor": 2
}
